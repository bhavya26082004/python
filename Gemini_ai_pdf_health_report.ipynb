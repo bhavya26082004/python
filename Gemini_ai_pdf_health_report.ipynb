{
  "nbformat": 4,
  "nbformat_minor": 0,
  "metadata": {
    "colab": {
      "provenance": [],
      "authorship_tag": "ABX9TyMrCLo9rUG77+BWyM8oO+kN",
      "include_colab_link": true
    },
    "kernelspec": {
      "name": "python3",
      "display_name": "Python 3"
    },
    "language_info": {
      "name": "python"
    }
  },
  "cells": [
    {
      "cell_type": "markdown",
      "metadata": {
        "id": "view-in-github",
        "colab_type": "text"
      },
      "source": [
        "<a href=\"https://colab.research.google.com/github/bhavya26082004/python/blob/main/Gemini_ai_pdf_health_report.ipynb\" target=\"_parent\"><img src=\"https://colab.research.google.com/assets/colab-badge.svg\" alt=\"Open In Colab\"/></a>"
      ]
    },
    {
      "cell_type": "code",
      "source": [
        "!pip install PyPDF2"
      ],
      "metadata": {
        "colab": {
          "base_uri": "https://localhost:8080/"
        },
        "id": "X1udgMnf-3Lc",
        "outputId": "a861b5dd-ed82-4475-de8b-76a9cebf058a"
      },
      "execution_count": 3,
      "outputs": [
        {
          "output_type": "stream",
          "name": "stdout",
          "text": [
            "Collecting PyPDF2\n",
            "  Downloading pypdf2-3.0.1-py3-none-any.whl.metadata (6.8 kB)\n",
            "Downloading pypdf2-3.0.1-py3-none-any.whl (232 kB)\n",
            "\u001b[?25l   \u001b[90m━━━━━━━━━━━━━━━━━━━━━━━━━━━━━━━━━━━━━━━━\u001b[0m \u001b[32m0.0/232.6 kB\u001b[0m \u001b[31m?\u001b[0m eta \u001b[36m-:--:--\u001b[0m\r\u001b[2K   \u001b[91m━━━━━━━━━━━━━━━━━━━━━\u001b[0m\u001b[90m╺\u001b[0m\u001b[90m━━━━━━━━━━━━━━━━━━\u001b[0m \u001b[32m122.9/232.6 kB\u001b[0m \u001b[31m3.6 MB/s\u001b[0m eta \u001b[36m0:00:01\u001b[0m\r\u001b[2K   \u001b[90m━━━━━━━━━━━━━━━━━━━━━━━━━━━━━━━━━━━━━━━━\u001b[0m \u001b[32m232.6/232.6 kB\u001b[0m \u001b[31m4.2 MB/s\u001b[0m eta \u001b[36m0:00:00\u001b[0m\n",
            "\u001b[?25hInstalling collected packages: PyPDF2\n",
            "Successfully installed PyPDF2-3.0.1\n"
          ]
        }
      ]
    },
    {
      "cell_type": "code",
      "source": [
        "import google.generativeai as genai\n",
        "from google.colab import userdata\n",
        "\n",
        "GOOGLE_API_KEY=userdata.get('GOOGLE_API_KEY')\n",
        "genai.configure(api_key=GOOGLE_API_KEY)"
      ],
      "metadata": {
        "id": "tXIJ_an5_DGe"
      },
      "execution_count": 6,
      "outputs": []
    },
    {
      "cell_type": "code",
      "source": [
        "import PyPDF2\n",
        "\n",
        "def extract_text_from_pdf(pdf_path):\n",
        "  \"\"\"Extracts text from a given health report PDF using PyPDF2.\"\"\"\n",
        "  text = \"\"\n",
        "  with open(pdf_path, \"rb\") as file:\n",
        "    pdf_reader = PyPDF2.PdfReader(file)\n",
        "    for page in pdf_reader.pages:\n",
        "      text += page.extract_text() + \"\\n\"\n",
        "  return text"
      ],
      "metadata": {
        "id": "d6lRiTKk_U1B"
      },
      "execution_count": 8,
      "outputs": []
    },
    {
      "cell_type": "code",
      "source": [
        "def extract_health_insights(text):\n",
        "  \"\"\"Asks Gemini AI to extract key medical insights from the report.\"\"\"\n",
        "  model = genai.GenerativeModel(\"gemini-1.5-flash\")\n",
        "  prompt = f\"Extract key insights from the following health report\\n\\n{text}\"\n",
        "  response = model.generate_content(prompt)\n",
        "  return response.text\n",
        "\n",
        "pdf_file = \"health_report.pdf\"\n",
        "extracted_text = extract_text_from_pdf(pdf_file)\n",
        "insights = extract_health_insights(extracted_text)\n",
        "print(\"Key Insights:\\n\", insights)"
      ],
      "metadata": {
        "colab": {
          "base_uri": "https://localhost:8080/",
          "height": 488
        },
        "id": "Lv9sVdJFAV8K",
        "outputId": "ecca3831-eede-40cf-c9e8-6889f2bfb9ac"
      },
      "execution_count": 9,
      "outputs": [
        {
          "output_type": "stream",
          "name": "stdout",
          "text": [
            "Key Insights:\n",
            " Mr. Kishan Goud's (MR Number: MR2100003157) health report from February 1st, 2021, reveals the following key insights:\n",
            "\n",
            "**Infectious Diseases:**\n",
            "\n",
            "* **Negative for Dengue:**  Tests for Dengue NS1 antigen, IgG, and IgM antibodies were all negative.\n",
            "* **Negative for Malaria:** Rapid malaria tests for *Plasmodium vivax* and *Plasmodium falciparum* were both negative.\n",
            "* **Possible Typhoid Exposure (requires clinical correlation):**  Widal test showed elevated titers for *Salmonella Typhi* \"O\" (1:160) and \"H\" (1:80), exceeding the reference range of 1:20.  However, this alone doesn't confirm typhoid.  Further investigation and clinical evaluation are necessary as a positive Widal test can be caused by past infection or cross-reactivity with other organisms. *Salmonella Paratyphi* AH and BH titers were within the normal range.\n",
            "\n",
            "**Hematology:**\n",
            "\n",
            "* **Slightly Elevated ESR:**  Erythrocyte Sedimentation Rate (ESR) was elevated (26 mm/hr in the first hour, 52 mm/hr in the second), suggesting possible inflammation or infection.\n",
            "* **Complete Blood Count (CBC) within normal limits:** Hemoglobin, RBC, WBC, platelets, and PCV are within the normal ranges, with differential count also within normal limits.  The peripheral blood smear showed normal findings.\n",
            "\n",
            "**Blood Chemistry:**\n",
            "\n",
            "* **Normal Blood Glucose and HbA1c:** Random blood glucose and HbA1c levels were within the normal range for a non-diabetic individual, indicating good glycemic control.\n",
            "* **Normal Liver Function Tests (LFTs):**  All liver function tests (serum bilirubin, alkaline phosphatase, SGOT, SGPT, total protein, albumin, globulin, and A/G ratio) fell within normal ranges.\n",
            "* **Slightly Low Serum Sodium:** Serum sodium was slightly below the lower limit of the reference range (122 mmol/l vs 135-146 mmol/l).  This warrants further investigation and correlation with the patient's clinical picture.  Serum potassium and chloride were within normal ranges.\n",
            "* **Normal Serum Creatinine:** Serum creatinine was within the normal range (0.8 mg/dl), indicating normal kidney function.\n",
            "\n",
            "\n",
            "**Overall:**\n",
            "\n",
            "The report shows some indications of possible past or current infection (elevated ESR and Widal test results), but the absence of positive dengue and malaria tests, combined with mostly normal CBC and blood chemistry, points to a more complex clinical picture that requires a doctor's interpretation considering the patient's symptoms and medical history. The slightly low sodium level needs further evaluation.  The elevated Widal test results for *Salmonella Typhi* are particularly important but require further clinical assessment before a definitive diagnosis can be made.\n",
            "\n"
          ]
        }
      ]
    },
    {
      "cell_type": "code",
      "source": [
        "def summarize_health_report(text):\n",
        "  \"\"\"Summarize the health report using Gemini AI.\"\"\"\n",
        "  model = genai.GenerativeModel(\"gemini-1.5-flash\")\n",
        "  prompt = f\"Summarize the following health report in a concise manner:\\n\\n{text}\"\n",
        "  response = model.generate_content(prompt)\n",
        "  return response.text\n",
        "\n",
        "summary = summarize_health_report(extracted_text)\n",
        "print(\"Summary:\\n\", summary)"
      ],
      "metadata": {
        "colab": {
          "base_uri": "https://localhost:8080/",
          "height": 89
        },
        "id": "70ergSoCCtuf",
        "outputId": "33ecf71c-ec7f-48d9-a7aa-68ced3969dbb"
      },
      "execution_count": 10,
      "outputs": [
        {
          "output_type": "stream",
          "name": "stdout",
          "text": [
            "Summary:\n",
            " Mr. Kishan Goud's (MR2100003157) lab results from 01/02/2021 show:  Elevated ESR (26/52 mm/hr), Widal test positive for *S. Typhi* O (1:160) and H (1:80) antigens,  negative dengue serology (NS1, IgG, IgM), negative malaria test, and normal complete blood count (CBC), HbA1c (5.4%), creatinine (0.8 mg/dl), blood glucose, and liver function tests.  Serum sodium (122 mmol/l) is slightly low.  All other electrolytes are within normal range.\n",
            "\n"
          ]
        }
      ]
    },
    {
      "cell_type": "code",
      "source": [
        "def detect_abnormalities(text):\n",
        "  \"\"\"Analyzes labb test results and flags abnormal values.\"\"\"\n",
        "  model = genai.GenerativeModel(\"gemini-1.5-flash\")\n",
        "  prompt = f\"Analyze the following lab test results in the following health report and highlight any abnormal values:\\n\\n{text}\"\n",
        "  response = model.generate_content(prompt)\n",
        "  return response.text\n",
        "\n",
        "abnormalities = detect_abnormalities(extracted_text)\n",
        "print(\"Potential abnormalities:\\n\", abnormalities)"
      ],
      "metadata": {
        "colab": {
          "base_uri": "https://localhost:8080/",
          "height": 280
        },
        "id": "5qIr4f8sFi2I",
        "outputId": "31f9e9a0-4fef-473a-f935-23dfb5a32ac4"
      },
      "execution_count": 12,
      "outputs": [
        {
          "output_type": "stream",
          "name": "stdout",
          "text": [
            "Potential abnormalities:\n",
            " Based on the provided lab results, the following values fall outside the given biological reference ranges, indicating potential abnormalities:\n",
            "\n",
            "* **Widal Test:**  S. Typhi \"O\" (1:160) and S. Typhi \"H\" (1:80) are significantly higher than the reference range (1:20). This suggests a possible past or current infection with *Salmonella Typhi*, the bacteria that causes typhoid fever.  Further investigation and clinical correlation are necessary for diagnosis.\n",
            "\n",
            "* **ESR (Erythrocyte Sedimentation Rate):** Both the 1st hour (26 mm/hr) and 2nd hour (52 mm/hr) values are elevated above the reference range (0-8 mm/hr for the 1st hour).  Increased ESR often indicates inflammation or infection somewhere in the body.\n",
            "\n",
            "* **Serum Sodium:** The serum sodium level (122 mmol/l) is below the reference range (135-146 mmol/l), indicating hyponatremia (low sodium in the blood). This can have various causes and requires further evaluation.\n",
            "\n",
            "* **Serum Chloride:** The serum chloride level (97 mmol/l) is slightly below the reference range (98-107 mmol/l). While this is a minor deviation, it's worth noting in conjunction with the hyponatremia.\n",
            "\n",
            "\n",
            "**Important Note:**  These are just laboratory findings.  A medical professional needs to interpret these results in the context of the patient's complete medical history, physical examination, and other clinical information to reach a diagnosis and formulate a treatment plan.  The elevated Widal test titres, high ESR, and low sodium should be investigated further.  The slightly low chloride warrants monitoring, particularly given the hyponatremia.\n",
            "\n"
          ]
        }
      ]
    },
    {
      "cell_type": "code",
      "source": [
        "def explain_medical_terms(text):\n",
        "  \"\"\"Ask Gemini AI to simplify medical terms for patient understanding.\"\"\"\n",
        "  model = genai.GenerativeModel(\"gemini-1.5-flash\")\n",
        "  prompt = f\"Simplify the following medical terms for patient understanding:\\n\\n{text}\"\n",
        "  response = model.generate_content(prompt)\n",
        "  return response.text\n",
        "\n",
        "explanation = explain_medical_terms(extracted_text)\n",
        "print(\"Simplified Explanation:\\n\", explanation)"
      ],
      "metadata": {
        "colab": {
          "base_uri": "https://localhost:8080/",
          "height": 488
        },
        "id": "RlvC_bo8HKEi",
        "outputId": "5e9f3c4a-8eb7-498a-953e-db6b65ba4acd"
      },
      "execution_count": 13,
      "outputs": [
        {
          "output_type": "stream",
          "name": "stdout",
          "text": [
            "Simplified Explanation:\n",
            " This is a summary of Mr. Kishan Goud's lab results from February 1st, 2021.  Remember, this is a simplification and you should discuss these results with your doctor.\n",
            "\n",
            "**Typhoid Tests (Widal Test):**  These tests check for typhoid fever.  The results are within the normal range for all tested antibodies.\n",
            "\n",
            "**Dengue Tests:** Tests for dengue fever were negative (not detected).\n",
            "\n",
            "**Erythrocyte Sedimentation Rate (ESR):** This measures inflammation in the body. The first-hour result is slightly elevated, and the second hour result is higher.  This needs further investigation by your doctor.\n",
            "\n",
            "**Malaria Test:**  This rapid test for malaria was negative.\n",
            "\n",
            "**Complete Blood Count (CBC):**  Most of your blood counts (red blood cells, white blood cells, platelets, hemoglobin) are within normal ranges.\n",
            "\n",
            "**HbA1c:** This test measures your average blood sugar over the past few months. Your result (5.4%) indicates your blood sugar is within the normal range for someone without diabetes.\n",
            "\n",
            "**Creatinine:** This measures kidney function. Your result is within the normal range.\n",
            "\n",
            "**Blood Glucose (Random):** Your blood sugar level was within the normal range at the time of testing.\n",
            "\n",
            "**Liver Function Tests (LFTs):**  Your liver function tests are all within the normal ranges.\n",
            "\n",
            "**Electrolytes:** Most of your electrolyte levels (sodium, potassium, chloride) are within the normal range. Sodium is slightly low.\n",
            "\n",
            "\n",
            "**Important Note:** This is a simplified explanation.  Some results, particularly the ESR and slightly low sodium, warrant further discussion with your doctor to determine their significance.  Do not attempt self-diagnosis or treatment based on this information alone.\n",
            "\n"
          ]
        }
      ]
    },
    {
      "cell_type": "code",
      "source": [
        "def ask_gemini_about_report(text, question):\n",
        "  \"\"\"Allows users to ask questions about the health report using Gemini AI.\"\"\"\n",
        "  model = genai.GenerativeModel(\"gemini-1.5-flash\")\n",
        "  prompt = f\"Answer the following question about the health report:\\n\\n{question}\\n\\n{text}\"\n",
        "  response = model.generate_content(prompt)\n",
        "  return response.text\n",
        "question = \"What is the patient's diagnosis?\"\n",
        "answer = ask_gemini_about_report(extracted_text, question)\n",
        "print(\"Answer:\\n\", answer)"
      ],
      "metadata": {
        "colab": {
          "base_uri": "https://localhost:8080/",
          "height": 89
        },
        "id": "0yjZxI0sIm5v",
        "outputId": "ba12d03a-4337-4510-e709-055915f94930"
      },
      "execution_count": 14,
      "outputs": [
        {
          "output_type": "stream",
          "name": "stdout",
          "text": [
            "Answer:\n",
            " The report shows elevated titers for *Salmonella Typhi* \"O\" (1:160) and \"H\" (1:80) antigens in the Widal test.  While the other *Salmonella* and Dengue tests are negative, the significantly elevated *S. Typhi* titers suggest a diagnosis of **Typhoid fever**.  However, it's crucial to note that a definitive diagnosis requires clinical correlation and consideration of other factors by a physician.  The elevated ESR also supports the possibility of an infection.\n",
            "\n"
          ]
        }
      ]
    },
    {
      "cell_type": "code",
      "source": [],
      "metadata": {
        "id": "RAnXyhApJ0Dq"
      },
      "execution_count": null,
      "outputs": []
    }
  ]
}