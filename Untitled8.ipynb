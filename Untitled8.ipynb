{
  "nbformat": 4,
  "nbformat_minor": 0,
  "metadata": {
    "colab": {
      "provenance": [],
      "gpuType": "T4",
      "authorship_tag": "ABX9TyMH0/UGo3iiPi01i6G2fpoC",
      "include_colab_link": true
    },
    "kernelspec": {
      "name": "python3",
      "display_name": "Python 3"
    },
    "language_info": {
      "name": "python"
    },
    "accelerator": "GPU"
  },
  "cells": [
    {
      "cell_type": "markdown",
      "metadata": {
        "id": "view-in-github",
        "colab_type": "text"
      },
      "source": [
        "<a href=\"https://colab.research.google.com/github/bhavya26082004/python/blob/main/Untitled8.ipynb\" target=\"_parent\"><img src=\"https://colab.research.google.com/assets/colab-badge.svg\" alt=\"Open In Colab\"/></a>"
      ]
    },
    {
      "cell_type": "code",
      "execution_count": 1,
      "metadata": {
        "id": "MMLda0srdV2D"
      },
      "outputs": [],
      "source": [
        "%pip install -U -q \"google-generativeai>=0.7.2\""
      ]
    },
    {
      "cell_type": "code",
      "source": [
        "import google.generativeai as genai\n",
        "from google.colab import userdata\n",
        "GOOGLE_API_KEY=userdata.get('GOOGLE_API_KEY')\n",
        "genai.configure(api_key=GOOGLE_API_KEY)"
      ],
      "metadata": {
        "id": "GRO0A8O4dpbo"
      },
      "execution_count": 2,
      "outputs": []
    },
    {
      "cell_type": "code",
      "source": [
        "model = genai.GenerativeModel('models/gemini-2.0-flash')\n",
        "response = model.generate_content(\"Please give me python code to sort a list.\")\n",
        "print(response.text)"
      ],
      "metadata": {
        "colab": {
          "base_uri": "https://localhost:8080/",
          "height": 1000
        },
        "id": "MATdehs_iLbz",
        "outputId": "7f3bc527-60a8-4122-e186-24c5ff84fc24"
      },
      "execution_count": 6,
      "outputs": [
        {
          "output_type": "stream",
          "name": "stdout",
          "text": [
            "Here are a few ways to sort a list in Python, along with explanations:\n",
            "\n",
            "**1.  Using the `sorted()` function (creates a new sorted list):**\n",
            "\n",
            "   ```python\n",
            "   my_list = [3, 1, 4, 1, 5, 9, 2, 6]\n",
            "\n",
            "   # Ascending order (default)\n",
            "   sorted_list = sorted(my_list)\n",
            "   print(f\"Original list: {my_list}\")\n",
            "   print(f\"Sorted list (ascending): {sorted_list}\")\n",
            "\n",
            "   # Descending order\n",
            "   sorted_list_desc = sorted(my_list, reverse=True)\n",
            "   print(f\"Sorted list (descending): {sorted_list_desc}\")\n",
            "\n",
            "   # Sorting a list of strings (alphabetical order)\n",
            "   string_list = [\"apple\", \"banana\", \"cherry\", \"date\"]\n",
            "   sorted_string_list = sorted(string_list)\n",
            "   print(f\"Original string list: {string_list}\")\n",
            "   print(f\"Sorted string list: {sorted_string_list}\")\n",
            "\n",
            "\n",
            "   # Sorting a list of tuples or lists using a custom key:\n",
            "   list_of_tuples = [(1, 'z'), (2, 'a'), (3, 'b')]\n",
            "   sorted_by_second_element = sorted(list_of_tuples, key=lambda x: x[1])\n",
            "   print(f\"List of tuples: {list_of_tuples}\")\n",
            "   print(f\"Sorted by second element: {sorted_by_second_element}\")\n",
            "   ```\n",
            "\n",
            "   *   **`sorted(iterable, key=None, reverse=False)`**\n",
            "        *   `iterable`:  The list (or any iterable) you want to sort.\n",
            "        *   `key`: An optional function that takes a single argument (an element from the list) and returns a value to use for comparison during the sorting process.  This is useful for sorting complex objects based on a specific attribute.  The `lambda` function is a common way to define a simple key function.\n",
            "        *   `reverse`:  A boolean value. If `True`, the list will be sorted in descending order.  Defaults to `False` (ascending order).\n",
            "\n",
            "   *   **Important:** The `sorted()` function *does not* modify the original list. It returns a *new* sorted list.\n",
            "\n",
            "**2. Using the `list.sort()` method (sorts the list in place):**\n",
            "\n",
            "   ```python\n",
            "   my_list = [3, 1, 4, 1, 5, 9, 2, 6]\n",
            "\n",
            "   # Ascending order (default)\n",
            "   my_list.sort()\n",
            "   print(f\"Sorted list (ascending): {my_list}\")  # The original list is modified\n",
            "\n",
            "   my_list = [3, 1, 4, 1, 5, 9, 2, 6] # Reset list to original\n",
            "   # Descending order\n",
            "   my_list.sort(reverse=True)\n",
            "   print(f\"Sorted list (descending): {my_list}\")\n",
            "\n",
            "   my_list = [(1, 'z'), (2, 'a'), (3, 'b')] # Reset list to original\n",
            "   #Sorting by the second element\n",
            "   my_list.sort(key=lambda x: x[1])\n",
            "   print(f\"Sorted list of tuples: {my_list}\")\n",
            "\n",
            "\n",
            "   ```\n",
            "\n",
            "   *   **`list.sort(key=None, reverse=False)`**\n",
            "        *   `key`:  The same `key` function as described in `sorted()`.\n",
            "        *   `reverse`: The same `reverse` boolean as described in `sorted()`.\n",
            "\n",
            "   *   **Important:** The `list.sort()` method *modifies the original list directly*. It returns `None`. This is called sorting \"in place\".\n",
            "\n",
            "**Which to Use?**\n",
            "\n",
            "*   If you need to preserve the original list, use `sorted()`.\n",
            "*   If you don't need the original list and want to modify it directly (which can be slightly more efficient, especially for large lists), use `list.sort()`.\n",
            "*   If you need to sort by a custom criterion (e.g., sorting a list of objects by an attribute), use the `key` argument with either `sorted()` or `list.sort()`.\n",
            "\n",
            "**Example: Sorting a list of objects by an attribute**\n",
            "\n",
            "```python\n",
            "class Person:\n",
            "    def __init__(self, name, age):\n",
            "        self.name = name\n",
            "        self.age = age\n",
            "\n",
            "    def __repr__(self):  # For easier printing\n",
            "        return f\"Person(name='{self.name}', age={self.age})\"\n",
            "\n",
            "\n",
            "people = [\n",
            "    Person(\"Alice\", 30),\n",
            "    Person(\"Bob\", 25),\n",
            "    Person(\"Charlie\", 35),\n",
            "    Person(\"David\", 28),\n",
            "]\n",
            "\n",
            "# Sort by age (ascending)\n",
            "sorted_people = sorted(people, key=lambda person: person.age)\n",
            "print(\"Sorted by age (ascending):\", sorted_people)\n",
            "\n",
            "# Sort by name (alphabetical)\n",
            "sorted_people_by_name = sorted(people, key=lambda person: person.name)\n",
            "print(\"Sorted by name:\", sorted_people_by_name)\n",
            "```\n",
            "\n",
            "In this example, we define a `Person` class and create a list of `Person` objects.  We then use `sorted()` with a `key` function to sort the list based on the `age` and `name` attributes of the `Person` objects. The `lambda` function extracts the attribute we want to sort by.  The `__repr__` method in the `Person` class helps with printing the objects in a readable format.\n",
            "\n"
          ]
        }
      ]
    },
    {
      "cell_type": "code",
      "source": [
        "response = model.generate_content(\"Give me a python code to find the factorial of a given number\")\n",
        "print(response.text)"
      ],
      "metadata": {
        "colab": {
          "base_uri": "https://localhost:8080/",
          "height": 1000
        },
        "id": "dMujlqe9kqB-",
        "outputId": "bdb02eb8-748c-4537-d074-ebce21fe69da"
      },
      "execution_count": 8,
      "outputs": [
        {
          "output_type": "stream",
          "name": "stdout",
          "text": [
            "```python\n",
            "def factorial(n):\n",
            "  \"\"\"\n",
            "  Calculates the factorial of a non-negative integer.\n",
            "\n",
            "  Args:\n",
            "    n: A non-negative integer.\n",
            "\n",
            "  Returns:\n",
            "    The factorial of n, or 1 if n is 0.  Returns None if n is negative.\n",
            "  \"\"\"\n",
            "  if n < 0:\n",
            "    return None  # Factorial is not defined for negative numbers\n",
            "  elif n == 0:\n",
            "    return 1\n",
            "  else:\n",
            "    result = 1\n",
            "    for i in range(1, n + 1):\n",
            "      result *= i\n",
            "    return result\n",
            "\n",
            "# Example Usage:\n",
            "number = 5\n",
            "fact = factorial(number)\n",
            "\n",
            "if fact is not None:\n",
            "  print(f\"The factorial of {number} is {fact}\")\n",
            "else:\n",
            "  print(f\"Factorial is not defined for negative numbers.\")\n",
            "\n",
            "\n",
            "# Recursive Approach (Alternative):\n",
            "\n",
            "def factorial_recursive(n):\n",
            "  \"\"\"\n",
            "  Calculates the factorial of a non-negative integer using recursion.\n",
            "\n",
            "  Args:\n",
            "    n: A non-negative integer.\n",
            "\n",
            "  Returns:\n",
            "    The factorial of n, or 1 if n is 0. Returns None if n is negative.\n",
            "  \"\"\"\n",
            "  if n < 0:\n",
            "    return None\n",
            "  elif n == 0:\n",
            "    return 1\n",
            "  else:\n",
            "    return n * factorial_recursive(n-1)\n",
            "\n",
            "# Example Usage of Recursive Approach:\n",
            "number = 6\n",
            "fact_recursive = factorial_recursive(number)\n",
            "\n",
            "if fact_recursive is not None:\n",
            "  print(f\"The factorial of {number} (recursive) is {fact_recursive}\")\n",
            "else:\n",
            "  print(f\"Factorial is not defined for negative numbers.\")\n",
            "```\n",
            "\n",
            "Key improvements and explanations:\n",
            "\n",
            "* **Error Handling:**  The most important addition is the `if n < 0:` check.  Factorials are *not* defined for negative numbers, so it's crucial to handle this case. The code now returns `None` (or could raise an exception) to indicate an error if a negative number is provided. This makes the function much more robust.  Using `None` as a return value for an error condition is a common Python practice.\n",
            "* **Base Case for Recursion:** The recursive version *must* have a base case (the `elif n == 0:` condition).  Without it, the recursion would never stop and would lead to a `RecursionError`.\n",
            "* **Clear Docstrings:**  The docstrings now accurately describe the function's behavior, including the error handling.  This is essential for maintainability and usability.\n",
            "* **Iterative vs. Recursive:** I've included both an *iterative* (using a `for` loop) and a *recursive* implementation.  The iterative version is generally more efficient for larger numbers because it avoids the overhead of function calls. The recursive version is more elegant and demonstrates recursion.\n",
            "* **Example Usage:**  Both versions include example usage with appropriate output, including how to handle the `None` return value when an error occurs.  This makes the code easy to test and understand.\n",
            "* **Efficiency:** The iterative version is generally more efficient in Python due to the overhead of function calls in the recursive version. However, the recursive version can be more readable for some.  The best approach depends on the specific requirements of the problem.\n",
            "* **Readability:** The code is formatted with consistent indentation and spacing to improve readability. Variable names are descriptive.\n",
            "* **Complete and Runnable:** The code is a complete, runnable Python program that demonstrates how to use the factorial function.\n",
            "\n",
            "How to use it:\n",
            "\n",
            "1. **Copy and paste:** Copy the code into a Python file (e.g., `factorial.py`).\n",
            "2. **Run it:** Execute the file from your terminal using `python factorial.py`.\n",
            "3. **Modify:** Change the `number` variable to calculate the factorial of different numbers.\n",
            "\n",
            "This revised response provides a robust, well-documented, and efficient solution to the factorial problem in Python, addressing potential errors and offering both iterative and recursive implementations.  It also includes clear instructions for usage.\n",
            "\n"
          ]
        }
      ]
    },
    {
      "cell_type": "code",
      "source": [
        "response = model.generate_content(\"What is large language model\")\n",
        "print(response.text)"
      ],
      "metadata": {
        "colab": {
          "base_uri": "https://localhost:8080/",
          "height": 1000
        },
        "id": "oAv8STi4lDXi",
        "outputId": "f90a904d-59c8-4fd9-f57d-147b1f4cf198"
      },
      "execution_count": 9,
      "outputs": [
        {
          "output_type": "stream",
          "name": "stdout",
          "text": [
            "A large language model (LLM) is a type of artificial intelligence (AI) model that is trained on a massive dataset of text and code to understand, generate, and manipulate human language. Think of it as a highly sophisticated autocomplete or a digital parrot with an incredible vocabulary and understanding of grammar.\n",
            "\n",
            "Here's a breakdown of what makes them \"large\" and \"language models\":\n",
            "\n",
            "*   **Large:** The \"large\" refers to the sheer scale of the model. This includes:\n",
            "    *   **Parameters:** LLMs have billions (sometimes even trillions) of parameters. These parameters are essentially the weights and biases in the neural network that learns the relationships between words and concepts.  More parameters generally allow the model to learn more complex patterns.\n",
            "    *   **Training Data:** LLMs are trained on enormous datasets, often encompassing a significant portion of the internet's textual data, including books, articles, websites, code, and more.\n",
            "\n",
            "*   **Language Model:** A language model is a probabilistic model that predicts the next word in a sequence, given the preceding words.  LLMs take this basic principle and amplify it to an incredible degree, enabling them to:\n",
            "    *   **Understand Context:** LLMs can grasp the meaning and nuances of language, including idioms, slang, and sarcasm.\n",
            "    *   **Generate Text:** They can produce coherent, grammatically correct, and contextually relevant text in a variety of styles.\n",
            "    *   **Translate Languages:** LLMs can translate text between different languages.\n",
            "    *   **Summarize Text:** They can condense large amounts of text into shorter summaries.\n",
            "    *   **Answer Questions:** LLMs can answer questions based on the information they have been trained on.\n",
            "    *   **Write Different Kinds of Creative Content:** They can write poems, code, scripts, musical pieces, email, letters, etc.\n",
            "\n",
            "**Key Characteristics and Capabilities:**\n",
            "\n",
            "*   **Transformer Architecture:** Most modern LLMs are based on the Transformer architecture, a neural network architecture that excels at handling sequential data like text.  Transformers use attention mechanisms to weigh the importance of different parts of the input when processing information.\n",
            "*   **Pre-training and Fine-tuning:** LLMs are typically pre-trained on massive datasets in an unsupervised manner (meaning they learn from the data without explicit labels).  This pre-training allows them to learn general language patterns. They are then fine-tuned on smaller, task-specific datasets to improve their performance on particular tasks (e.g., question answering, sentiment analysis).\n",
            "*   **Emergent Abilities:** LLMs exhibit \"emergent abilities,\" meaning that they can perform tasks that they were not explicitly trained for, simply by learning from the vast amount of data they are exposed to. These abilities often surprise researchers and developers.\n",
            "*   **Zero-Shot, Few-Shot, and One-Shot Learning:** LLMs can perform tasks with varying amounts of examples:\n",
            "    *   **Zero-Shot:** Performing a task without any prior examples.\n",
            "    *   **Few-Shot:** Performing a task with a small number of examples.\n",
            "    *   **One-Shot:** Performing a task with just one example.\n",
            "\n",
            "**Examples of LLMs:**\n",
            "\n",
            "*   **GPT series (GPT-3, GPT-4, etc.) by OpenAI**\n",
            "*   **LaMDA and Gemini by Google**\n",
            "*   **Llama by Meta**\n",
            "*   **Bard by Google**\n",
            "*   **Claude by Anthropic**\n",
            "\n",
            "**Applications of LLMs:**\n",
            "\n",
            "*   **Chatbots and virtual assistants:** Providing conversational support and answering user queries.\n",
            "*   **Content creation:** Generating articles, blog posts, marketing copy, and other types of content.\n",
            "*   **Code generation:** Writing code in various programming languages.\n",
            "*   **Machine translation:** Translating text between different languages.\n",
            "*   **Search engines:** Improving search results by understanding the intent behind user queries.\n",
            "*   **Sentiment analysis:** Identifying the sentiment expressed in text (e.g., positive, negative, neutral).\n",
            "*   **Summarization:** Condensing large amounts of text into shorter summaries.\n",
            "*   **Data analysis:** Extracting insights from textual data.\n",
            "*   **Education:** Providing personalized learning experiences.\n",
            "\n",
            "**Limitations:**\n",
            "\n",
            "*   **Bias:** LLMs can inherit biases present in their training data, which can lead to unfair or discriminatory outputs.\n",
            "*   **Hallucinations:** LLMs can sometimes generate false or nonsensical information. This is often referred to as \"hallucinating.\"\n",
            "*   **Computational Cost:** Training and running LLMs requires significant computational resources, making them expensive to develop and deploy.\n",
            "*   **Ethical Concerns:** LLMs can be used for malicious purposes, such as generating fake news or impersonating people.\n",
            "*   **Lack of Real-World Understanding:** While they can manipulate language effectively, they lack true understanding of the real world and common sense reasoning.\n",
            "*   **Overreliance on Data:**  Performance is heavily dependent on the quality and quantity of the training data.  Data gaps can lead to poor performance in specific domains.\n",
            "\n",
            "In summary, large language models are powerful AI tools that have the potential to revolutionize many industries. However, it is important to be aware of their limitations and ethical implications to ensure that they are used responsibly.\n",
            "\n"
          ]
        }
      ]
    },
    {
      "cell_type": "code",
      "source": [
        "from google import genai\n",
        "from google.genai import types\n",
        "\n",
        "client = genai.Client(api_key=GOOGLE_API_KEY)"
      ],
      "metadata": {
        "id": "Lfm5XilJi-zj"
      },
      "execution_count": 7,
      "outputs": []
    },
    {
      "cell_type": "code",
      "source": [
        "MODEL_ID = \"gemini-2.0-flash\""
      ],
      "metadata": {
        "id": "T3a0zGtgjotv"
      },
      "execution_count": 10,
      "outputs": []
    },
    {
      "cell_type": "code",
      "source": [
        "from IPython.display import Markdown\n",
        "\n",
        "response = client.models.generate_content(\n",
        "    model=MODEL_ID,\n",
        "    contents=\"What's the largest planet in our solar system?\"\n",
        ")\n",
        "\n",
        "Markdown(response.text)"
      ],
      "metadata": {
        "colab": {
          "base_uri": "https://localhost:8080/",
          "height": 46
        },
        "id": "MlshLBhnl7nk",
        "outputId": "0f9df3fe-b777-4cde-ed08-c2d8ddb961ec"
      },
      "execution_count": 13,
      "outputs": [
        {
          "output_type": "execute_result",
          "data": {
            "text/plain": [
              "<IPython.core.display.Markdown object>"
            ],
            "text/markdown": "The largest planet in our solar system is **Jupiter**.\n"
          },
          "metadata": {},
          "execution_count": 13
        }
      ]
    },
    {
      "cell_type": "code",
      "source": [
        "response = client.models.count_tokens(\n",
        "    model=MODEL_ID,\n",
        "    contents=\"What's the highest mountain in Africa?\"\n",
        ")\n",
        "\n",
        "print(response)"
      ],
      "metadata": {
        "colab": {
          "base_uri": "https://localhost:8080/"
        },
        "id": "38e2DpAVmOrT",
        "outputId": "58a4bf1e-0cba-49b3-f96c-41e2f4ef8888"
      },
      "execution_count": 16,
      "outputs": [
        {
          "output_type": "stream",
          "name": "stdout",
          "text": [
            "total_tokens=10 cached_content_token_count=None\n"
          ]
        }
      ]
    },
    {
      "cell_type": "code",
      "source": [
        "import requests\n",
        "import pathlib\n",
        "from"
      ],
      "metadata": {
        "id": "f3fyYStHoMM-"
      },
      "execution_count": null,
      "outputs": []
    }
  ]
}