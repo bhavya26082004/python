{
  "nbformat": 4,
  "nbformat_minor": 0,
  "metadata": {
    "colab": {
      "provenance": [],
      "authorship_tag": "ABX9TyOSRoyJZKjZE8Z0NJjeTSex",
      "include_colab_link": true
    },
    "kernelspec": {
      "name": "python3",
      "display_name": "Python 3"
    },
    "language_info": {
      "name": "python"
    }
  },
  "cells": [
    {
      "cell_type": "markdown",
      "metadata": {
        "id": "view-in-github",
        "colab_type": "text"
      },
      "source": [
        "<a href=\"https://colab.research.google.com/github/bhavya26082004/python/blob/main/Web_Scrappin.ipynb\" target=\"_parent\"><img src=\"https://colab.research.google.com/assets/colab-badge.svg\" alt=\"Open In Colab\"/></a>"
      ]
    },
    {
      "cell_type": "code",
      "execution_count": 1,
      "metadata": {
        "id": "3gsgl75cdr6Q",
        "colab": {
          "base_uri": "https://localhost:8080/"
        },
        "outputId": "b2e0e50a-8ec6-4166-cd98-e73c27576f55"
      },
      "outputs": [
        {
          "output_type": "stream",
          "name": "stdout",
          "text": [
            "Requirement already satisfied: requests in /usr/local/lib/python3.11/dist-packages (2.32.3)\n",
            "Requirement already satisfied: beautifulsoup4 in /usr/local/lib/python3.11/dist-packages (4.13.3)\n",
            "Requirement already satisfied: charset-normalizer<4,>=2 in /usr/local/lib/python3.11/dist-packages (from requests) (3.4.1)\n",
            "Requirement already satisfied: idna<4,>=2.5 in /usr/local/lib/python3.11/dist-packages (from requests) (3.10)\n",
            "Requirement already satisfied: urllib3<3,>=1.21.1 in /usr/local/lib/python3.11/dist-packages (from requests) (2.3.0)\n",
            "Requirement already satisfied: certifi>=2017.4.17 in /usr/local/lib/python3.11/dist-packages (from requests) (2025.1.31)\n",
            "Requirement already satisfied: soupsieve>1.2 in /usr/local/lib/python3.11/dist-packages (from beautifulsoup4) (2.6)\n",
            "Requirement already satisfied: typing-extensions>=4.0.0 in /usr/local/lib/python3.11/dist-packages (from beautifulsoup4) (4.12.2)\n"
          ]
        }
      ],
      "source": [
        "!pip install requests beautifulsoup4"
      ]
    },
    {
      "cell_type": "code",
      "source": [
        "import requests\n",
        "from bs4 import BeautifulSoup\n",
        "\n",
        "url = \"http://quotes.toscrape.com/\"\n",
        "response = requests.get(url)\n",
        "if response.status_code == 200:\n",
        "  soup = BeautifulSoup(response.text, 'html.parser')\n",
        "  quotes = soup.find_all(\"div\", class_=\"quote\")\n",
        "  for i , quote in enumerate(quotes[:5]):\n",
        "    text = quote.find(\"span\", class_=\"text\").text\n",
        "    author = quote.find(\"small\", class_=\"author\").text\n",
        "    tags = [tag.text for tag in quote.find_all(\"a\", class_=\"tag\")]\n",
        "    print(f\"{i+1}.\\\"{text}\\\"-{author}\")\n",
        "    print(f\" Tags:{', '.join(tags)}\\n\")\n",
        "else:\n",
        "  print(\"Failed to retrieve the webpage.Status Code:{response.status_code}\")"
      ],
      "metadata": {
        "colab": {
          "base_uri": "https://localhost:8080/"
        },
        "id": "PaF15dxTecfG",
        "outputId": "6a29076d-4be5-466c-fcde-df652f6232ce"
      },
      "execution_count": 3,
      "outputs": [
        {
          "output_type": "stream",
          "name": "stdout",
          "text": [
            "1.\"“The world as we have created it is a process of our thinking. It cannot be changed without changing our thinking.”\"-Albert Einstein\n",
            " Tags:change, deep-thoughts, thinking, world\n",
            "\n",
            "2.\"“It is our choices, Harry, that show what we truly are, far more than our abilities.”\"-J.K. Rowling\n",
            " Tags:abilities, choices\n",
            "\n",
            "3.\"“There are only two ways to live your life. One is as though nothing is a miracle. The other is as though everything is a miracle.”\"-Albert Einstein\n",
            " Tags:inspirational, life, live, miracle, miracles\n",
            "\n",
            "4.\"“The person, be it gentleman or lady, who has not pleasure in a good novel, must be intolerably stupid.”\"-Jane Austen\n",
            " Tags:aliteracy, books, classic, humor\n",
            "\n",
            "5.\"“Imperfection is beauty, madness is genius and it's better to be absolutely ridiculous than absolutely boring.”\"-Marilyn Monroe\n",
            " Tags:be-yourself, inspirational\n",
            "\n"
          ]
        }
      ]
    },
    {
      "cell_type": "code",
      "source": [
        "import requests\n",
        "from bs4 import BeautifulSoup\n",
        "\n",
        "city = \"india/hyderabad\"\n",
        "url = f\"https://www.timeanddate.com/weather/{city}\"\n",
        "\n",
        "response = requests.get(url)\n",
        "soup = BeautifulSoup(response.text, 'html.parser')\n",
        "temp = soup.find(\"div\", class_=\"h2\").text.strip() if soup.find(\"div\", class_=\"h2\") else \"N/A\"\n",
        "desc = soup.find(\"p\").text.strip() if soup.find(\"p\") else \"N/A\"\n",
        "print(f\"Temperature in {city}: {temp}\")"
      ],
      "metadata": {
        "colab": {
          "base_uri": "https://localhost:8080/"
        },
        "id": "YDmQJjujg-BR",
        "outputId": "b2e5232b-3d63-4998-f027-3af2953215eb"
      },
      "execution_count": 4,
      "outputs": [
        {
          "output_type": "stream",
          "name": "stdout",
          "text": [
            "Temperature in india/hyderabad: 86 °F\n"
          ]
        }
      ]
    },
    {
      "cell_type": "code",
      "source": [
        "import requests\n",
        "from bs4 import BeautifulSoup\n",
        "\n",
        "search_url = \"https://www.amazon.in/s?k=iphone\"\n",
        "\n",
        "headers = {\n",
        "    \"User-Agent\": \"Mozilla/5.0 (Windows NT 10.0; Win64; x64) AppleWebKit/537.36 (KHTML, like Gecko) Chrome/110.0.0.0 Safari/537.36\",\n",
        "    \"Accept-Language\": \"en-US,en;q=0.9\"\n",
        "}\n",
        "\n",
        "response = requests.get(search_url, headers=headers)\n",
        "\n",
        "if response.status_code == 200:\n",
        "    soup = BeautifulSoup(response.text, 'html.parser')\n",
        "    product = soup.select_one(\"span.a-size-medium.a-color-base.a-text-normal\")\n",
        "    price = soup.select_one(\"span.a-price-whole\")\n",
        "\n",
        "    if product and price:\n",
        "        print(f\"Product Name: {product.text.strip()}\")\n",
        "        print(f\"Price: ₹{price.text.strip()}\")\n",
        "    else:\n",
        "        print(\"Could not find product details.\")\n",
        "else:\n",
        "    print(\"Failed to fetch page. Amazon may be blocking the request.\")\n"
      ],
      "metadata": {
        "colab": {
          "base_uri": "https://localhost:8080/"
        },
        "id": "fj7sz756kB5h",
        "outputId": "e879d12f-d691-4116-d637-bb7b1e187c88"
      },
      "execution_count": 12,
      "outputs": [
        {
          "output_type": "stream",
          "name": "stdout",
          "text": [
            "Could not find product details.\n"
          ]
        }
      ]
    },
    {
      "cell_type": "code",
      "source": [
        "import requests\n",
        "from bs4 import BeautifulSoup\n",
        "\n",
        "url = \"https://en.wikipedia.org/wiki/List_of_countries_and_dependencies_by_population\"\n",
        "\n",
        "response = requests.get(url)\n",
        "soup = BeautifulSoup(response.text, \"html.parser\")\n",
        "\n",
        "table = soup.find(\"table\", class_=\"wikitable\")\n",
        "\n",
        "for row in table.find_all(\"tr\")[1:6]:\n",
        "    columns = row.find_all(\"td\" )\n",
        "    country = columns[1].text.strip()\n",
        "    population= columns[2].text.strip()\n",
        "\n",
        "    print(f\"{country}: {population}\")"
      ],
      "metadata": {
        "colab": {
          "base_uri": "https://localhost:8080/"
        },
        "id": "0bgK__YDmmej",
        "outputId": "8436a8c0-79b6-4a50-cb1a-d12c36dff319"
      },
      "execution_count": 16,
      "outputs": [
        {
          "output_type": "stream",
          "name": "stdout",
          "text": [
            "World: 8,119,000,000\n",
            "China: 1,408,280,000\n",
            "1,402,737,000: 17.2%\n",
            "United States: 340,110,988\n",
            "Indonesia: 282,477,584\n"
          ]
        }
      ]
    },
    {
      "cell_type": "code",
      "source": [
        "from IPython.display import display, HTML"
      ],
      "metadata": {
        "id": "fsx9RUcKnfrZ"
      },
      "execution_count": 17,
      "outputs": []
    },
    {
      "cell_type": "code",
      "source": [
        "display(HTML(\"\"\"\n",
        "<p style=\"font-family:verdana\">This is a sample table</p>\n",
        "<table>\n",
        "<tr>\n",
        "    <th>Company</th>\n",
        "    <th>Contact</th>\n",
        "    <th>Country</th>\n",
        "</tr>\n",
        "<tr>\n",
        "    <td>Alfreds Futterkiste</td>\n",
        "    <td>Maria Anders</td>\n",
        "    <td>Germany</td>\n",
        "</tr>\n",
        "<tr>\n",
        "    <td>Centro comercial Moctezuma</td>\n",
        "    <td>Francisco Chang</td>\n",
        "    <td>Mexico</td>\n",
        "</tr>\n",
        "</table>\n",
        "\"\"\"))\n"
      ],
      "metadata": {
        "colab": {
          "base_uri": "https://localhost:8080/",
          "height": 111
        },
        "id": "ceqGdF7zoOs2",
        "outputId": "6632a0af-c6f3-4e88-8517-c71410511115"
      },
      "execution_count": 19,
      "outputs": [
        {
          "output_type": "display_data",
          "data": {
            "text/plain": [
              "<IPython.core.display.HTML object>"
            ],
            "text/html": [
              "\n",
              "<p style=\"font-family:verdana\">This is a sample table</p>\n",
              "<table>\n",
              "<tr>\n",
              "    <th>Company</th>\n",
              "    <th>Contact</th>\n",
              "    <th>Country</th>\n",
              "</tr>\n",
              "<tr>\n",
              "    <td>Alfreds Futterkiste</td>\n",
              "    <td>Maria Anders</td>\n",
              "    <td>Germany</td>\n",
              "</tr>\n",
              "<tr>\n",
              "    <td>Centro comercial Moctezuma</td>\n",
              "    <td>Francisco Chang</td>\n",
              "    <td>Mexico</td>\n",
              "</tr>\n",
              "</table>\n"
            ]
          },
          "metadata": {}
        }
      ]
    },
    {
      "cell_type": "code",
      "source": [],
      "metadata": {
        "id": "7nPKr5XSojsQ"
      },
      "execution_count": null,
      "outputs": []
    }
  ]
}