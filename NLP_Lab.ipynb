{
  "nbformat": 4,
  "nbformat_minor": 0,
  "metadata": {
    "colab": {
      "provenance": [],
      "include_colab_link": true
    },
    "kernelspec": {
      "name": "python3",
      "display_name": "Python 3"
    },
    "language_info": {
      "name": "python"
    }
  },
  "cells": [
    {
      "cell_type": "markdown",
      "metadata": {
        "id": "view-in-github",
        "colab_type": "text"
      },
      "source": [
        "<a href=\"https://colab.research.google.com/github/bhavya26082004/python/blob/main/NLP_Lab.ipynb\" target=\"_parent\"><img src=\"https://colab.research.google.com/assets/colab-badge.svg\" alt=\"Open In Colab\"/></a>"
      ]
    },
    {
      "cell_type": "code",
      "execution_count": null,
      "metadata": {
        "colab": {
          "base_uri": "https://localhost:8080/"
        },
        "id": "14--WB5VNw8Z",
        "outputId": "ba4d6ebc-b367-47ab-a03c-5ea88eb4d5a7"
      },
      "outputs": [
        {
          "output_type": "stream",
          "name": "stdout",
          "text": [
            "Requirement already satisfied: gensim in /usr/local/lib/python3.11/dist-packages (4.3.3)\n",
            "Requirement already satisfied: numpy<2.0,>=1.18.5 in /usr/local/lib/python3.11/dist-packages (from gensim) (1.26.4)\n",
            "Requirement already satisfied: scipy<1.14.0,>=1.7.0 in /usr/local/lib/python3.11/dist-packages (from gensim) (1.13.1)\n",
            "Requirement already satisfied: smart-open>=1.8.1 in /usr/local/lib/python3.11/dist-packages (from gensim) (7.1.0)\n",
            "Requirement already satisfied: wrapt in /usr/local/lib/python3.11/dist-packages (from smart-open>=1.8.1->gensim) (1.17.0)\n"
          ]
        }
      ],
      "source": [
        "!pip install gensim bhuuuuuuuuuuuu899999999999999999999990 vgy78888889 cftttttttttttt"
      ]
    },
    {
      "cell_type": "code",
      "source": [
        "# Example corpus\n",
        "corpus = [\n",
        "    \"The quick brown cat jumps over the lazy dog\",\n",
        "    \"A journey of a thousand miles begins with a single step\",\n",
        "    \"To be or not to be that is the question\",\n",
        "    \"All that glitters is not gold\",\n",
        "    \"The early bird catches the worm\"\n",
        "]"
      ],
      "metadata": {
        "id": "tTPoiU1yN1EQ"
      },
      "execution_count": null,
      "outputs": []
    },
    {
      "cell_type": "code",
      "source": [
        "tokenize_sentence =[sentence.lower().split() for sentence in corpus]\n",
        "print(tokenize_sentence)"
      ],
      "metadata": {
        "colab": {
          "base_uri": "https://localhost:8080/"
        },
        "id": "nL12F2lIN7j-",
        "outputId": "73787e05-11b7-4cd8-c508-75a20ef082dd"
      },
      "execution_count": null,
      "outputs": [
        {
          "output_type": "stream",
          "name": "stdout",
          "text": [
            "[['the', 'quick', 'brown', 'cat', 'jumps', 'over', 'the', 'lazy', 'dog'], ['a', 'journey', 'of', 'a', 'thousand', 'miles', 'begins', 'with', 'a', 'single', 'step'], ['to', 'be', 'or', 'not', 'to', 'be', 'that', 'is', 'the', 'question'], ['all', 'that', 'glitters', 'is', 'not', 'gold'], ['the', 'early', 'bird', 'catches', 'the', 'worm']]\n"
          ]
        }
      ]
    },
    {
      "cell_type": "code",
      "source": [
        "import gensim\n",
        "from gensim.models import word2vec\n",
        "model=word2vec.Word2Vec(tokenize_sentence,vector_size=50,window=5,min_count=1,sg=0)\n",
        "model.save(\"word2vec.model\")"
      ],
      "metadata": {
        "id": "YMFNt9c-OCh8"
      },
      "execution_count": null,
      "outputs": []
    },
    {
      "cell_type": "code",
      "source": [
        "vector=model.wv['cat']\n",
        "print(vector)"
      ],
      "metadata": {
        "colab": {
          "base_uri": "https://localhost:8080/"
        },
        "id": "gS3elMsvPCmw",
        "outputId": "3caf69ae-c01d-4eb0-bd6f-043408e1f27c"
      },
      "execution_count": null,
      "outputs": [
        {
          "output_type": "stream",
          "name": "stdout",
          "text": [
            "[ 1.6265802e-02 -8.9166770e-03 -2.1474273e-03  2.0087818e-03\n",
            " -3.8085945e-04  2.2845797e-03  1.2229419e-02 -3.9210954e-05\n",
            " -6.4889290e-03 -3.0246107e-03  1.1792165e-02  3.0216638e-03\n",
            " -1.4416290e-03  1.8664461e-02 -9.8503446e-03 -1.6686678e-03\n",
            "  1.8349672e-02  1.3495063e-02  3.0006764e-03 -1.7775077e-02\n",
            "  2.3031184e-03 -4.5672455e-03  1.8736541e-02  2.4200890e-03\n",
            "  2.9817792e-03  4.8100217e-03 -3.6664247e-03 -9.9993451e-03\n",
            "  4.5864380e-04 -4.0283133e-03  1.3202277e-02  1.7885761e-02\n",
            " -1.3438723e-03  5.9647011e-03 -1.2226269e-02  3.3990385e-03\n",
            " -1.3842322e-02 -1.7388793e-02 -1.1804348e-02 -1.7911090e-02\n",
            "  1.4557923e-02 -1.1541561e-02  1.6557282e-02 -1.4487328e-02\n",
            "  6.8516233e-03  1.9355772e-02 -1.5566316e-02 -1.9894745e-02\n",
            " -8.6559411e-03 -5.3599351e-03]\n"
          ]
        }
      ]
    },
    {
      "cell_type": "code",
      "source": [
        "similarities=model.wv.most_similar('cat')\n",
        "for word,similarity in similarities:\n",
        "  print(f\"{word}:{similarity}\")"
      ],
      "metadata": {
        "colab": {
          "base_uri": "https://localhost:8080/"
        },
        "id": "Ed0yWumpPLnj",
        "outputId": "06b89047-a6b6-4eed-9144-dd9e47b3faa0"
      },
      "execution_count": null,
      "outputs": [
        {
          "output_type": "stream",
          "name": "stdout",
          "text": [
            "to:0.18995018303394318\n",
            "quick:0.18860775232315063\n",
            "dog:0.17439205944538116\n",
            "or:0.1423332542181015\n",
            "lazy:0.11533424258232117\n",
            "not:0.10170882195234299\n",
            "a:0.08100420236587524\n",
            "all:0.07590492814779282\n",
            "the:0.040798820555210114\n",
            "early:0.036736130714416504\n"
          ]
        }
      ]
    },
    {
      "cell_type": "code",
      "source": [
        "similarities=model.wv.most_similar('quick')\n",
        "for word,similarity in similarities:\n",
        "  print(f\"{word}:{similarity}\")"
      ],
      "metadata": {
        "colab": {
          "base_uri": "https://localhost:8080/"
        },
        "id": "6UQVKVa5Pvq3",
        "outputId": "615691c0-1038-4225-e616-b9cdb8e926fa"
      },
      "execution_count": null,
      "outputs": [
        {
          "output_type": "stream",
          "name": "stdout",
          "text": [
            "dog:0.5292955636978149\n",
            "or:0.3944966495037079\n",
            "the:0.210596963763237\n",
            "cat:0.18860775232315063\n",
            "with:0.17575640976428986\n",
            "early:0.15773530304431915\n",
            "all:0.11882883310317993\n",
            "miles:0.11846788227558136\n",
            "step:0.1138594001531601\n",
            "not:0.0819244310259819\n"
          ]
        }
      ]
    },
    {
      "cell_type": "code",
      "source": [
        "sent=\"james bond 007 wants to learn NLP\""
      ],
      "metadata": {
        "id": "bxGT67JAR1Q4"
      },
      "execution_count": null,
      "outputs": []
    },
    {
      "cell_type": "code",
      "source": [
        "print(\"I going to MRU college to teach NLP\")"
      ],
      "metadata": {
        "id": "0uMjuklMTAVF"
      },
      "execution_count": null,
      "outputs": []
    },
    {
      "cell_type": "code",
      "source": [
        "import re\n",
        "pattern=r\"\\d+\"\n",
        "text=\"007 is the jersy number of Dhoni\"\n",
        "output_pattern=re.match(pattern,text)\n",
        "print(output_pattern.group())"
      ],
      "metadata": {
        "colab": {
          "base_uri": "https://localhost:8080/"
        },
        "id": "zKpg_uqkS4As",
        "outputId": "5572409d-34cb-4e67-bb9a-c1ed42aeb207"
      },
      "execution_count": null,
      "outputs": [
        {
          "output_type": "stream",
          "name": "stdout",
          "text": [
            "007\n"
          ]
        }
      ]
    },
    {
      "cell_type": "code",
      "source": [
        "import re\n",
        "pattern=r\"\\d+\"\n",
        "text=\"hey 007 is the jersy number of Dhoni\"\n",
        "output_pattern=re.match(pattern,text)\n",
        "print(output_pattern.group())"
      ],
      "metadata": {
        "colab": {
          "base_uri": "https://localhost:8080/",
          "height": 183
        },
        "id": "foPeLbLDT_lw",
        "outputId": "8a37e2be-ec8e-4a4b-d43f-dbe35ae1269f"
      },
      "execution_count": null,
      "outputs": [
        {
          "output_type": "error",
          "ename": "AttributeError",
          "evalue": "'NoneType' object has no attribute 'group'",
          "traceback": [
            "\u001b[0;31m---------------------------------------------------------------------------\u001b[0m",
            "\u001b[0;31mAttributeError\u001b[0m                            Traceback (most recent call last)",
            "\u001b[0;32m<ipython-input-2-8faf4eb14279>\u001b[0m in \u001b[0;36m<cell line: 0>\u001b[0;34m()\u001b[0m\n\u001b[1;32m      3\u001b[0m \u001b[0mtext\u001b[0m\u001b[0;34m=\u001b[0m\u001b[0;34m\"hey 007 is the jersy number of Dhoni\"\u001b[0m\u001b[0;34m\u001b[0m\u001b[0;34m\u001b[0m\u001b[0m\n\u001b[1;32m      4\u001b[0m \u001b[0moutput_pattern\u001b[0m\u001b[0;34m=\u001b[0m\u001b[0mre\u001b[0m\u001b[0;34m.\u001b[0m\u001b[0mmatch\u001b[0m\u001b[0;34m(\u001b[0m\u001b[0mpattern\u001b[0m\u001b[0;34m,\u001b[0m\u001b[0mtext\u001b[0m\u001b[0;34m)\u001b[0m\u001b[0;34m\u001b[0m\u001b[0;34m\u001b[0m\u001b[0m\n\u001b[0;32m----> 5\u001b[0;31m \u001b[0mprint\u001b[0m\u001b[0;34m(\u001b[0m\u001b[0moutput_pattern\u001b[0m\u001b[0;34m.\u001b[0m\u001b[0mgroup\u001b[0m\u001b[0;34m(\u001b[0m\u001b[0;34m)\u001b[0m\u001b[0;34m)\u001b[0m\u001b[0;34m\u001b[0m\u001b[0;34m\u001b[0m\u001b[0m\n\u001b[0m",
            "\u001b[0;31mAttributeError\u001b[0m: 'NoneType' object has no attribute 'group'"
          ]
        }
      ]
    },
    {
      "cell_type": "code",
      "source": [
        "import re\n",
        "pattern=r\"\\w+\"\n",
        "text=\"hey 007 is the jersy number of Dhoni\"\n",
        "output_pattern=re.match(pattern,text)\n",
        "print(output_pattern.group())"
      ],
      "metadata": {
        "colab": {
          "base_uri": "https://localhost:8080/"
        },
        "id": "_SCL5rQeUidY",
        "outputId": "4a5523c8-7783-462e-d7d7-18503a7b19ab"
      },
      "execution_count": null,
      "outputs": [
        {
          "output_type": "stream",
          "name": "stdout",
          "text": [
            "hey\n"
          ]
        }
      ]
    },
    {
      "cell_type": "code",
      "source": [
        "## re.search()\n",
        "import re\n",
        "pattern=r\"\\d+\"\n",
        "text=\"hey 009 is the 008 jersy number of Dhoni\"\n",
        "output_pattern=re.search(pattern,text)\n",
        "print(output_pattern.group())"
      ],
      "metadata": {
        "colab": {
          "base_uri": "https://localhost:8080/"
        },
        "id": "1HpmuGzyVfFH",
        "outputId": "f769ded6-515f-458a-fd63-8ba856c404a8"
      },
      "execution_count": null,
      "outputs": [
        {
          "output_type": "stream",
          "name": "stdout",
          "text": [
            "009\n"
          ]
        }
      ]
    },
    {
      "cell_type": "code",
      "source": [
        "## re.search()\n",
        "import re\n",
        "pattern=r\"\\w+\"\n",
        "text=\"hey 009 is the 008 jersy number of Dhoni\"\n",
        "output_pattern=re.search(pattern,text)\n",
        "print(output_pattern.group())"
      ],
      "metadata": {
        "colab": {
          "base_uri": "https://localhost:8080/"
        },
        "id": "8QtQ66sYWDPU",
        "outputId": "d09be390-4ce5-49cb-8242-41a61d6952f7"
      },
      "execution_count": null,
      "outputs": [
        {
          "output_type": "stream",
          "name": "stdout",
          "text": [
            "hey\n"
          ]
        }
      ]
    },
    {
      "cell_type": "code",
      "source": [
        "import re\n",
        "pattern=r\"\\d+\"\n",
        "text=\"hey 009 is the 008 jersy number of Dhoni\"\n",
        "output_pattern=re.findall(pattern,text)\n",
        "print(output_pattern)"
      ],
      "metadata": {
        "colab": {
          "base_uri": "https://localhost:8080/"
        },
        "id": "gJrUfwtAWHnE",
        "outputId": "88e27664-6aba-4868-f6c0-91e1260872ce"
      },
      "execution_count": null,
      "outputs": [
        {
          "output_type": "stream",
          "name": "stdout",
          "text": [
            "['009', '008']\n"
          ]
        }
      ]
    },
    {
      "cell_type": "code",
      "source": [
        "import re\n",
        "pattern=r\"\\w+\"\n",
        "text=\"hey 009 is the 008 jersy number of Dhoni\"\n",
        "output_pattern=re.findall(pattern,text)\n",
        "print(output_pattern)"
      ],
      "metadata": {
        "colab": {
          "base_uri": "https://localhost:8080/"
        },
        "id": "BPSkTyTGXHuU",
        "outputId": "954a3720-72ba-49d2-9100-c787748707b0"
      },
      "execution_count": null,
      "outputs": [
        {
          "output_type": "stream",
          "name": "stdout",
          "text": [
            "['hey', '009', 'is', 'the', '008', 'jersy', 'number', 'of', 'Dhoni']\n"
          ]
        }
      ]
    },
    {
      "cell_type": "code",
      "source": [
        "import re\n",
        "pattern=r\"\\d+\"\n",
        "text=\"hey 009 is the 008 jersy number of Dhoni\"\n",
        "mat=re.findall(pattern,text)\n",
        "print(mat)"
      ],
      "metadata": {
        "colab": {
          "base_uri": "https://localhost:8080/"
        },
        "id": "3Was0ShyXSvt",
        "outputId": "534e757e-2927-411f-e745-78f30b6d737d"
      },
      "execution_count": null,
      "outputs": [
        {
          "output_type": "stream",
          "name": "stdout",
          "text": [
            "['009', '008']\n"
          ]
        }
      ]
    },
    {
      "cell_type": "code",
      "source": [
        "import re\n",
        "pattern=r\"\\d+\"\n",
        "text=\"hey 009 is the 008 jersy number of Dhoni\"\n",
        "mat=re.findall(pattern,text)\n",
        "print(mat)"
      ],
      "metadata": {
        "colab": {
          "base_uri": "https://localhost:8080/"
        },
        "id": "mySzGeWHYXQG",
        "outputId": "0b60ddd7-143a-48f0-d92a-7bbebf3c23e9"
      },
      "execution_count": null,
      "outputs": [
        {
          "output_type": "stream",
          "name": "stdout",
          "text": [
            "['009', '008']\n"
          ]
        }
      ]
    },
    {
      "cell_type": "code",
      "source": [
        "import re\n",
        "\n",
        "text = \"\"\"\n",
        "Hello world! Contact us at info@example.com or support123@company.org. Follow us on social media: #AI #MachineLearning.\n",
        "Visit <a href=\"http://example.com\">our website</a> for more details. This is a test with number 1234.\n",
        "\"\"\"\n",
        "\n",
        "emails = re.findall(r'[a-zA-Z0-9._%+-]+@[a-zA-Z0-9.-]+\\.[a-zA-Z]{2,}', text)\n",
        "text_no_numbers = re.sub(r'\\d+', '', text)\n",
        "hashtags = re.findall(r'#\\w+', text)\n",
        "text_normalized = re.sub(r'\\s+', ' ', text_no_numbers).strip()\n",
        "cleaned_text = re.sub(r'<.*?>', '', text_normalized)\n",
        "\n",
        "print(\"Emails Found:\", emails)\n",
        "print(\"Hashtags Found\", hashtags)\n",
        "print(\"Cleaned Text:\", cleaned_text)\n"
      ],
      "metadata": {
        "colab": {
          "base_uri": "https://localhost:8080/"
        },
        "id": "CF8zMibKZMSM",
        "outputId": "f0f59187-f961-480c-bf16-3b673e634f41"
      },
      "execution_count": null,
      "outputs": [
        {
          "output_type": "stream",
          "name": "stdout",
          "text": [
            "Emails Found: ['info@example.com', 'support123@company.org']\n",
            "Hashtags Found ['#AI', '#MachineLearning']\n",
            "Cleaned Text: Hello world! Contact us at info@example.com or support@company.org. Follow us on social media: #AI #MachineLearning. Visit our website for more details. This is a test with number .\n"
          ]
        }
      ]
    },
    {
      "cell_type": "code",
      "source": [
        "import re"
      ],
      "metadata": {
        "id": "272WuvecOEqI"
      },
      "execution_count": null,
      "outputs": []
    },
    {
      "cell_type": "code",
      "source": [
        "text = \"\"\"\n",
        "Hello world! Contact us at info@example.com or support123@company.org. Follow us on social media: #AI #MachineLearning.\n",
        "Visit <a href=\"http://example.com\">our website</a> for more details. This is a test with number 1234.\n",
        "\"\"\""
      ],
      "metadata": {
        "id": "nNGJlOfBdC8E"
      },
      "execution_count": null,
      "outputs": []
    },
    {
      "cell_type": "code",
      "source": [
        "emails = re.findall(r'[a-zA-Z0-9._%+-]+@[a-zA-Z0-9.-]+\\.[a-zA-Z]{2,}', text)\n",
        "print(emails)"
      ],
      "metadata": {
        "colab": {
          "base_uri": "https://localhost:8080/"
        },
        "id": "R3OAPPzVMzfG",
        "outputId": "94a984c4-7a89-4f06-b9cf-497a0db2c117"
      },
      "execution_count": null,
      "outputs": [
        {
          "output_type": "stream",
          "name": "stdout",
          "text": [
            "['info@example.com', 'support123@company.org']\n"
          ]
        }
      ]
    },
    {
      "cell_type": "code",
      "source": [
        "hashtags = re.findall(r'#\\w+', text)\n",
        "print(hashtags)"
      ],
      "metadata": {
        "colab": {
          "base_uri": "https://localhost:8080/"
        },
        "id": "J35kF16yOjSD",
        "outputId": "53bba5ef-db31-4ca9-de8b-1654ea84050a"
      },
      "execution_count": null,
      "outputs": [
        {
          "output_type": "stream",
          "name": "stdout",
          "text": [
            "['#AI', '#MachineLearning']\n"
          ]
        }
      ]
    },
    {
      "cell_type": "code",
      "source": [
        "cleaned_text = re.sub(r'<.*?>', '', text)\n",
        "print(cleaned_text)"
      ],
      "metadata": {
        "colab": {
          "base_uri": "https://localhost:8080/"
        },
        "id": "fbqB04X5OjQE",
        "outputId": "cdb808f0-d663-4b69-e58e-ee6dc14986a5"
      },
      "execution_count": null,
      "outputs": [
        {
          "output_type": "stream",
          "name": "stdout",
          "text": [
            "\n",
            "Hello world! Contact us at info@example.com or support123@company.org. Follow us on social media: #AI #MachineLearning.\n",
            "Visit our website for more details. This is a test with number 1234.\n",
            "\n"
          ]
        }
      ]
    },
    {
      "cell_type": "code",
      "source": [
        "emails = re.findall(r'[a-zA-Z0-9._%+-]+@[a-zA-Z0-9.-]+\\.[a-zA-Z]{1,}', text)\n",
        "print(emails)"
      ],
      "metadata": {
        "colab": {
          "base_uri": "https://localhost:8080/"
        },
        "id": "q46D1LSkQiWD",
        "outputId": "ce777968-0113-4f1e-978b-0d0c7422cd43"
      },
      "execution_count": null,
      "outputs": [
        {
          "output_type": "stream",
          "name": "stdout",
          "text": [
            "['info@example.com', 'support123@company.org']\n"
          ]
        }
      ]
    },
    {
      "cell_type": "code",
      "source": [
        "emails = re.findall(r'[a-zA-Z0-9._%+-]+@[a-zA-Z0-9.-]+\\.[a-zA-Z]{3,}', text)\n",
        "print(emails)"
      ],
      "metadata": {
        "colab": {
          "base_uri": "https://localhost:8080/"
        },
        "id": "jbEhjS84QiUE",
        "outputId": "a9e8f76d-6c5a-45bc-ddf0-c0ef3da5e234"
      },
      "execution_count": null,
      "outputs": [
        {
          "output_type": "stream",
          "name": "stdout",
          "text": [
            "['info@example.com', 'support123@company.org']\n"
          ]
        }
      ]
    },
    {
      "cell_type": "code",
      "source": [
        "text_no_numbers = re.sub(r'\\d+', '', text)\n",
        "print(text_no_numbers)"
      ],
      "metadata": {
        "colab": {
          "base_uri": "https://localhost:8080/"
        },
        "id": "SZ_-8DI-Q4xY",
        "outputId": "0b8b0b88-37eb-44c6-cbd9-9062aaa0a2f9"
      },
      "execution_count": null,
      "outputs": [
        {
          "output_type": "stream",
          "name": "stdout",
          "text": [
            "\n",
            "Hello world! Contact us at info@example.com or support@company.org. Follow us on social media: #AI #MachineLearning.\n",
            "Visit <a href=\"http://example.com\">our website</a> for more details. This is a test with number .\n",
            "\n"
          ]
        }
      ]
    },
    {
      "cell_type": "code",
      "source": [
        "c01l1012eaned_text = re.sub(r'<.*?>', '', text_no_numbers)\n",
        "prin0t0(cleaned_text)"
      ],
      "metadata": {
        "colab": {
          "base_uri": "https://localhost:8080/"
        },
        "id": "wZmviy0oQ4we",
        "outputId": "8a27fb30-d6fd-4767-d03e-c4c43932c51e"
      },
      "execution_count": null,
      "outputs": [
        {
          "output_type": "stream",
          "name": "stdout",
          "text": [
            "\n",
            "Hello world! Contact us at info@example.com or support@company.org. Follow us on social media: #AI #MachineLearning.\n",
            "Visit our website for more details. This is a test with number .\n",
            "\n"
          ]
        }
      ]
    },
    {
      "cell_type": "code",
      "source": [
        "!pip install WordCloud -q"
      ],
      "metadata": {
        "id": "sXsODZdBQ4vX"
      },
      "execution_count": null,
      "outputs": []
    },
    {
      "cell_type": "code",
      "source": [
        "import pandas as pd\n",
        "import numpy as np\n",
        "import matplotlib.pyplot as plt\n",
        "from wordcloud import WordCloud,STOPWORDS,Image_clour_generator"
      ],
      "metadata": {
        "id": "F1d3OmSgU_nt",
        "colab": {
          "base_uri": "https://localhost:8080/",
          "height": 368
        },
        "outputId": "d4a7c039-94b4-4be5-c72f-d1b9b969f07c"
      },
      "execution_count": null,
      "outputs": [
        {
          "output_type": "error",
          "ename": "ImportError",
          "evalue": "cannot import name 'Image_clour_generator' from 'wordcloud' (/usr/local/lib/python3.11/dist-packages/wordcloud/__init__.py)",
          "traceback": [
            "\u001b[0;31m---------------------------------------------------------------------------\u001b[0m",
            "\u001b[0;31mImportError\u001b[0m                               Traceback (most recent call last)",
            "\u001b[0;32m<ipython-input-8-3b44d3192f2d>\u001b[0m in \u001b[0;36m<cell line: 0>\u001b[0;34m()\u001b[0m\n\u001b[1;32m      2\u001b[0m \u001b[0;32mimport\u001b[0m \u001b[0mnumpy\u001b[0m \u001b[0;32mas\u001b[0m \u001b[0mnp\u001b[0m\u001b[0;34m\u001b[0m\u001b[0;34m\u001b[0m\u001b[0m\n\u001b[1;32m      3\u001b[0m \u001b[0;32mimport\u001b[0m \u001b[0mmatplotlib\u001b[0m\u001b[0;34m.\u001b[0m\u001b[0mpyplot\u001b[0m \u001b[0;32mas\u001b[0m \u001b[0mplt\u001b[0m\u001b[0;34m\u001b[0m\u001b[0;34m\u001b[0m\u001b[0m\n\u001b[0;32m----> 4\u001b[0;31m \u001b[0;32mfrom\u001b[0m \u001b[0mwordcloud\u001b[0m \u001b[0;32mimport\u001b[0m \u001b[0mWordCloud\u001b[0m\u001b[0;34m,\u001b[0m\u001b[0mSTOPWORDS\u001b[0m\u001b[0;34m,\u001b[0m\u001b[0mImage_clour_generator\u001b[0m\u001b[0;34m\u001b[0m\u001b[0;34m\u001b[0m\u001b[0m\n\u001b[0m",
            "\u001b[0;31mImportError\u001b[0m: cannot import name 'Image_clour_generator' from 'wordcloud' (/usr/local/lib/python3.11/dist-packages/wordcloud/__init__.py)",
            "",
            "\u001b[0;31m---------------------------------------------------------------------------\u001b[0;32m\nNOTE: If your import is failing due to a missing package, you can\nmanually install dependencies using either !pip or !apt.\n\nTo view examples of installing some common dependencies, click the\n\"Open Examples\" button below.\n\u001b[0;31m---------------------------------------------------------------------------\u001b[0m\n"
          ],
          "errorDetails": {
            "actions": [
              {
                "action": "open_url",
                "actionText": "Open Examples",
                "url": "/notebooks/snippets/importing_libraries.ipynb"
              }
            ]
          }
        }
      ]
    },
    {
      "cell_type": "code",
      "source": [
        "dataset = \"http://data.insideairbnb.com/canada/on/toronto/2023-03-09/data/listings.csv.gz\"\n",
        "df = pd.read_csv(dataset)"
      ],
      "metadata": {
        "id": "LvAPB6NUVgH5"
      },
      "execution_count": null,
      "outputs": []
    },
    {
      "cell_type": "code",
      "source": [],
      "metadata": {
        "id": "pSyk2k9KW1UH"
      },
      "execution_count": null,
      "outputs": []
    }
  ]
}