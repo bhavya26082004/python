{
  "nbformat": 4,
  "nbformat_minor": 0,
  "metadata": {
    "colab": {
      "provenance": [],
      "authorship_tag": "ABX9TyOqTlMpxcBSJKhJDNXUsQIf",
      "include_colab_link": true
    },
    "kernelspec": {
      "name": "python3",
      "display_name": "Python 3"
    },
    "language_info": {
      "name": "python"
    }
  },
  "cells": [
    {
      "cell_type": "markdown",
      "metadata": {
        "id": "view-in-github",
        "colab_type": "text"
      },
      "source": [
        "<a href=\"https://colab.research.google.com/github/bhavya26082004/python/blob/main/AD.ipynb\" target=\"_parent\"><img src=\"https://colab.research.google.com/assets/colab-badge.svg\" alt=\"Open In Colab\"/></a>"
      ]
    },
    {
      "cell_type": "code",
      "source": [
        "# Define the documents\n",
        "doc_trump = \"\"\"Mr. Trump became president after winning the political election.\n",
        "Though he lost the support of some Republican friends, Trump is friends with President Putin.\"\"\"\n",
        "\n",
        "doc_election = \"\"\"President Trump says Putin had no political interference in the election outcome.\n",
        "He says it was a witch hunt by political parties.\n",
        "He claimed President Putin is a friend who had nothing to do with the election.\"\"\"\n",
        "\n",
        "doc_putin = \"\"\"Post elections, Vladimir Putin became President of Russia.\n",
        "President Putin had served as the Prime Minister earlier.\"\"\"\n"
      ],
      "metadata": {
        "id": "tV_K0Zn-YxlJ"
      },
      "execution_count": 1,
      "outputs": []
    },
    {
      "cell_type": "code",
      "source": [
        "from sklearn.feature_extraction.text import CountVectorizer\n",
        "import pandas as pd\n",
        "\n",
        "count_vect = CountVectorizer(stop_words='english')\n",
        "sparse_matrix = count_vect.fit_transform(documents)\n",
        "\n",
        "doc_term_matrix = sparse_matrix.toarray()\n",
        "df = pd.DataFrame(doc_term_matrix, columns=count_vect.get_feature_names_out(),\n",
        "                  index=['doc_trump', 'doc_election', 'doc_putin'])\n",
        "\n",
        "print(df)\n"
      ],
      "metadata": {
        "colab": {
          "base_uri": "https://localhost:8080/"
        },
        "id": "3-q_SI5MZmPP",
        "outputId": "90773f19-b32c-463c-9600-f647a2e6e3d2"
      },
      "execution_count": 8,
      "outputs": [
        {
          "output_type": "stream",
          "name": "stdout",
          "text": [
            "              claimed  earlier  election  elections  friend  friends  hunt  \\\n",
            "doc_trump           0        0         1          0       0        2     0   \n",
            "doc_election        1        0         2          0       1        0     1   \n",
            "doc_putin           0        1         0          1       0        0     0   \n",
            "\n",
            "              interference  lost  minister  ...  putin  republican  russia  \\\n",
            "doc_trump                0     1         0  ...      1           1       0   \n",
            "doc_election             1     0         0  ...      2           0       0   \n",
            "doc_putin                0     0         1  ...      2           0       1   \n",
            "\n",
            "              says  served  support  trump  vladimir  winning  witch  \n",
            "doc_trump        0       0        1      2         0        1      0  \n",
            "doc_election     2       0        0      1         0        0      1  \n",
            "doc_putin        0       1        0      0         1        0      0  \n",
            "\n",
            "[3 rows x 27 columns]\n"
          ]
        }
      ]
    },
    {
      "cell_type": "code",
      "source": [
        "from sklearn.metrics.pairwise import cosine_similarity\n",
        "\n",
        "# Compute Cosine Similarity\n",
        "cosine_sim = cosine_similarity(df, df)\n",
        "print(cosine_sim)"
      ],
      "metadata": {
        "colab": {
          "base_uri": "https://localhost:8080/"
        },
        "id": "sakJ0ouVa4KT",
        "outputId": "d9b5d140-52fa-427c-bdd8-fdf08b42de38"
      },
      "execution_count": 9,
      "outputs": [
        {
          "output_type": "stream",
          "name": "stdout",
          "text": [
            "[[1.         0.50709255 0.3354102 ]\n",
            " [0.50709255 1.         0.37796447]\n",
            " [0.3354102  0.37796447 1.        ]]\n"
          ]
        }
      ]
    },
    {
      "cell_type": "code",
      "source": [
        "import numpy as np\n",
        "import matplotlib.pyplot as plt\n",
        "\n",
        "A = np.array([7,3])\n",
        "B = np.array([3,7])\n",
        "ax = plt.axes()\n",
        "ax.arrow(0, 0, A[0], A[1], head_width=0.4, head_length=0.5)\n",
        "plt.annotate(f\"A({A[0]},{A[1]})\", xy=(A[0], A[1]), xytext=(A[0]+0.5, A[1]))\n",
        "\n",
        "ax.arrow(0, 0, B[0], B[1], head_width=0.4, head_length=0.5)\n",
        "plt.annotate(f\"B({B[0]},{B[1]})\", xy=(B[0], B[1]), xytext=(B[0]+0.5, B[1]))\n",
        "\n",
        "plt.xlim(0,10)\n",
        "plt.ylim(0,10)\n",
        "plt.show()\n",
        "plt.close()\n",
        "\n",
        "cos_sim = np.dot(A,B)/(np.linalg.norm(A)*np.linalg.norm(B))\n",
        "print(f\"Cosine Similarity between A and B: {cos_sim}\")\n",
        "print(f\"Cosine Distance between A and B: {1-cos_sim}\")"
      ],
      "metadata": {
        "colab": {
          "base_uri": "https://localhost:8080/",
          "height": 470
        },
        "id": "OI8VD15cbGLW",
        "outputId": "06613991-9b3b-4da3-e6a8-23da0d3e686b"
      },
      "execution_count": 12,
      "outputs": [
        {
          "output_type": "display_data",
          "data": {
            "text/plain": [
              "<Figure size 640x480 with 1 Axes>"
            ],
            "image/png": "[encoded data removed]"
          },
          "metadata": {}
        },
        {
          "output_type": "stream",
          "name": "stdout",
          "text": [
            "Cosine Similarity between A and B: 0.7241379310344827\n",
            "Cosine Distance between A and B: 0.27586206896551735\n"
          ]
        }
      ]
    },
    {
      "cell_type": "code",
      "source": [
        "A = {1,2,3,4,6}\n",
        "B = {1,2,5,8,9}\n",
        "\n",
        "C = A.intersection(B)\n",
        "D = A.union(B)\n",
        "\n",
        "print('AnB = ', C)\n",
        "print('AUB = ',D)\n",
        "print('J(A,B) = ', float(len(C))/float(len(D)))\n"
      ],
      "metadata": {
        "colab": {
          "base_uri": "https://localhost:8080/"
        },
        "id": "Q6a29McidIWf",
        "outputId": "cc913b33-ecf6-43dd-fb34-229d2e7bf3ad"
      },
      "execution_count": 14,
      "outputs": [
        {
          "output_type": "stream",
          "name": "stdout",
          "text": [
            "AnB =  {1, 2}\n",
            "AUB =  {1, 2, 3, 4, 5, 6, 8, 9}\n",
            "J(A,B) =  0.25\n"
          ]
        }
      ]
    },
    {
      "cell_type": "code",
      "source": [],
      "metadata": {
        "id": "OpIUld9DgGm4"
      },
      "execution_count": null,
      "outputs": []
    }
  ]
}