{
  "cells": [
    {
      "cell_type": "markdown",
      "metadata": {
        "id": "view-in-github",
        "colab_type": "text"
      },
      "source": [
        "<a href=\"https://colab.research.google.com/github/bhavya26082004/python/blob/main/GAN.ipynb\" target=\"_parent\"><img src=\"https://colab.research.google.com/assets/colab-badge.svg\" alt=\"Open In Colab\"/></a>"
      ]
    },
    {
      "cell_type": "code",
      "execution_count": 1,
      "metadata": {
        "id": "g_dSRWqM7ETg"
      },
      "outputs": [],
      "source": [
        "from IPython import get_ipython\n",
        "from IPython.display import display\n",
        "# %%\n",
        "import numpy as np\n",
        "import matplotlib.pyplot as plt\n",
        "from tqdm import tqdm\n",
        "from keras.layers import Input, Dense, Dropout, LeakyReLU\n",
        "from keras.models import Model, Sequential\n",
        "from keras.datasets import mnist\n",
        "from keras.optimizers import Adam\n",
        "from keras import initializers\n",
        "import tensorflow as tf # Import TensorFlow\n",
        "\n",
        "# Enforce eager execution\n",
        "tf.config.run_functions_eagerly(True) # Enable eager execution\n",
        "\n",
        "# %%\n",
        "np.random.seed(10)\n",
        "random_dim = 100\n",
        "# %%\n",
        "def load_minst_data():\n",
        "    (x_train, y_train), (x_test, y_test) = mnist.load_data()\n",
        "    x_train = (x_train.astype(np.float32) - 127.5)/127.5\n",
        "    x_train = x_train.reshape(60000, 784)\n",
        "    return (x_train, y_train, x_test, y_test)\n",
        "\n",
        "# %%\n",
        "def get_optimizer():\n",
        "  return Adam(learning_rate=0.0002, beta_1=0.5)\n",
        "# %%\n",
        "def get_generator(optimizer):\n",
        "  generator = Sequential()\n",
        "  generator.add(Dense(256, input_dim=random_dim, kernel_initializer=initializers.RandomNormal(stddev=0.02)))\n",
        "  generator.add(LeakyReLU(0.2))\n",
        "  generator.add(Dense(512))\n",
        "  generator.add(LeakyReLU(0.2 ))\n",
        "  generator.add(Dense(1024))\n",
        "  generator.add(LeakyReLU(0.2))\n",
        "  generator.add(Dense(784, activation='tanh'))\n",
        "  generator.compile(loss='binary_crossentropy', optimizer=optimizer)\n",
        "  return generator\n",
        "# %%\n",
        "def get_discriminator(optimizer):\n",
        "  discriminator = Sequential()\n",
        "\n",
        "  discriminator.add(Dense(256, input_dim=784, kernel_initializer=initializers.RandomNormal(stddev=0.02))) # Changed input_dim to 784\n",
        "  discriminator.add(LeakyReLU(0.2))\n",
        "  discriminator.add(Dropout(0.3))\n",
        "  discriminator.add(Dense(512))\n",
        "  discriminator.add(LeakyReLU(0.2 ))\n",
        "  discriminator.add(Dropout(0.3))\n",
        "  discriminator.add(Dense(256))\n",
        "  discriminator.add(LeakyReLU(0.2))\n",
        "  discriminator.add(Dropout(0.3))\n",
        "  discriminator.add(Dense(784, activation='sigmoid')) # This output shape can be adjusted based on your desired output\n",
        "  discriminator.compile(loss='binary_crossentropy', optimizer=optimizer)\n",
        "  return discriminator\n",
        "# %%\n",
        "def get_discriminator(optimizer):\n",
        "  discriminator = Sequential()\n",
        "  # The input_dim should match the output shape of the generator\n",
        "  discriminator.add(Dense(256, input_dim=784, kernel_initializer=initializers.RandomNormal(stddev=0.02))) # Changed input_dim to 784\n",
        "  discriminator.add(LeakyReLU(0.2))\n",
        "  discriminator.add(Dropout(0.3))\n",
        "  discriminator.add(Dense(512))\n",
        "  discriminator.add(LeakyReLU(0.2 ))\n",
        "  discriminator.add(Dropout(0.3))\n",
        "  discriminator.add(Dense(256))\n",
        "  discriminator.add(LeakyReLU(0.2))\n",
        "  discriminator.add(Dropout(0.3))\n",
        "  # Change the output layer to have a single neuron with sigmoid activation\n",
        "  discriminator.add(Dense(1, activation='sigmoid'))  # Output a single probability\n",
        "  discriminator.compile(loss='binary_crossentropy', optimizer=optimizer)\n",
        "  return discriminator\n",
        "# %%\n",
        "def get_gan_network(discriminator, random_dim, generator, optimizer):\n",
        "  discriminator.trainable = False\n",
        "  gan_input = Input(shape=(random_dim,))\n",
        "  x = generator(gan_input)\n",
        "  gan_output = discriminator(x)\n",
        "  gan = Model(inputs=gan_input, outputs=gan_output)\n",
        "  gan.compile(loss='binary_crossentropy', optimizer=optimizer)\n",
        "  return gan\n",
        "# %%\n",
        "def plot_generated_images(epoch, generator, examples=100, dim=(10, 10), figsize=(10, 10)):\n",
        "  noise = np.random.normal(0, 1, size=[examples, random_dim])\n",
        "  generated_images = generator.predict(noise)\n",
        "  generated_images = generated_images.reshape(examples, 28, 28)\n",
        "  plt.figure(figsize=figsize)\n",
        "  for i in range(generated_images.shape[0]):\n",
        "    plt.subplot(dim[0], dim[1], i+1)\n",
        "    plt.imshow(generated_images[i], interpolation='nearest', cmap='gray_r')\n",
        "    plt.axis('off')\n",
        "    plt.tight_layout()\n",
        "  plt.savefig('gan_generated_image_epoch_%d.png' % epoch)\n",
        "# %%\n",
        "def train(epochs=1, batch_size=128):\n",
        "  x_train, y_train, x_test, y_test = load_minst_data()\n",
        "  batch_count = x_train.shape[0] / batch_size\n",
        "  adam = get_optimizer()\n",
        "  generator = get_generator(adam)\n",
        "  discriminator = get_discriminator(adam)\n",
        "  gan = get_gan_network(discriminator, random_dim, generator, adam)\n",
        "\n",
        "  # Create a new optimizer instance for the GAN\n",
        "  gan_optimizer = get_optimizer()\n",
        "  gan.compile(loss='binary_crossentropy', optimizer=gan_optimizer)  # Re-compile GAN with the new optimizer\n",
        "\n",
        "  for e in range(1, epochs+1):\n",
        "    print('-'*15, 'Epoch %d' % e, '-'*15)\n",
        "    for _ in tqdm(range(batch_size)):\n",
        "      # ... (rest of your training loop code remains the same)\n",
        "      noise = np.random.normal(0, 1, size=[batch_size, random_dim])\n",
        "      image_batch = x_train[np.random.randint(0, x_train.shape[0], size=batch_size)]\n",
        "      generated_images = generator.predict(noise)\n",
        "      x = np.concatenate([image_batch, generated_images])\n",
        "      y_dis = np.zeros(2*batch_size)\n",
        "      y_dis[:batch_size] = 0.9\n",
        "      discriminator.trainable = True\n",
        "      discriminator.train_on_batch(x, y_dis)\n",
        "      noise = np.random.normal(0, 1, size=[batch_size, random_dim])\n",
        "      y_gen = np.ones(batch_size)\n",
        "      discriminator.trainable = False\n",
        "      gan.train_on_batch(noise, y_gen)\n",
        "    if e == 1 or e % 20 == 0:\n",
        "      plot_generated_images(e, generator)"
      ]
    },
    {
      "cell_type": "code",
      "execution_count": null,
      "metadata": {
        "colab": {
          "background_save": true,
          "base_uri": "https://localhost:8080/"
        },
        "id": "VILG2A-pEkcu",
        "outputId": "ef867b06-8587-4c61-de47-b886e83372cf"
      },
      "outputs": [
        {
          "output_type": "stream",
          "name": "stdout",
          "text": [
            "Downloading data from https://storage.googleapis.com/tensorflow/tf-keras-datasets/mnist.npz\n",
            "\u001b[1m11490434/11490434\u001b[0m \u001b[32m━━━━━━━━━━━━━━━━━━━━\u001b[0m\u001b[37m\u001b[0m \u001b[1m0s\u001b[0m 0us/step\n"
          ]
        },
        {
          "output_type": "stream",
          "name": "stderr",
          "text": [
            "/usr/local/lib/python3.11/dist-packages/keras/src/layers/core/dense.py:87: UserWarning: Do not pass an `input_shape`/`input_dim` argument to a layer. When using Sequential models, prefer using an `Input(shape)` object as the first layer in the model instead.\n",
            "  super().__init__(activity_regularizer=activity_regularizer, **kwargs)\n"
          ]
        }
      ],
      "source": [
        "train(20, 128)"
      ]
    },
    {
      "cell_type": "code",
      "execution_count": null,
      "metadata": {
        "id": "nZl1gf3gErcJ"
      },
      "outputs": [],
      "source": []
    }
  ],
  "metadata": {
    "accelerator": "GPU",
    "colab": {
      "gpuType": "T4",
      "provenance": [],
      "authorship_tag": "ABX9TyOQ7CPY2kmYmggnia3VsGuo",
      "include_colab_link": true
    },
    "kernelspec": {
      "display_name": "Python 3",
      "name": "python3"
    },
    "language_info": {
      "name": "python"
    }
  },
  "nbformat": 4,
  "nbformat_minor": 0
}